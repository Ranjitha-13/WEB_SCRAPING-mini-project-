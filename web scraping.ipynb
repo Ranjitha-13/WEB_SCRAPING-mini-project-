{
 "cells": [
  {
   "cell_type": "code",
   "execution_count": 1,
   "id": "e31ae9e2",
   "metadata": {},
   "outputs": [],
   "source": [
    "from bs4 import BeautifulSoup as s\n",
    "from urllib.request import urlopen as u\n",
    "import pandas as pd\n",
    "import numpy as np\n",
    "import matplotlib.pyplot as plt\n",
    "import seaborn as sns"
   ]
  },
  {
   "cell_type": "code",
   "execution_count": 2,
   "id": "f3b641d0",
   "metadata": {},
   "outputs": [],
   "source": [
    "link=\"https://www.flipkart.com/search?q=apple+13+pro+max&sid=tyy%2C4io&as=on&as-show=on&otracker=AS_QueryStore_OrganicAutoSuggest_1_8_na_na_na&otracker1=AS_QueryStore_OrganicAutoSuggest_1_8_na_na_na&as-pos=1&as-type=RECENT&suggestionId=apple+13+pro+max%7CMobiles&requestId=7389a0bc-12f4-41b4-acd8-350cda744292&as-searchtext=apple%2013\"                       \n",
    "pagecontent=u(link)\n",
    "pagecode=pagecontent.read()"
   ]
  },
  {
   "cell_type": "code",
   "execution_count": 3,
   "id": "93d5869c",
   "metadata": {},
   "outputs": [],
   "source": [
    "page_file=s(pagecode)"
   ]
  },
  {
   "cell_type": "code",
   "execution_count": 4,
   "id": "3fccf689",
   "metadata": {},
   "outputs": [
    {
     "name": "stdout",
     "output_type": "stream",
     "text": [
      "APPLE iPhone 13 Pro Max (Silver, 512 GB)\n"
     ]
    }
   ],
   "source": [
    "modelname=page_file.find(\"div\",{\"class\":'_4rR01T'})\n",
    "print(modelname.text)"
   ]
  },
  {
   "cell_type": "code",
   "execution_count": 5,
   "id": "64df2794",
   "metadata": {},
   "outputs": [],
   "source": [
    "productname=[]\n",
    "modelname=page_file.findAll(\"div\",{\"class\":'_4rR01T'})\n",
    "for i in modelname:\n",
    "    p=i.text\n",
    "    productname.append(p)\n"
   ]
  },
  {
   "cell_type": "code",
   "execution_count": 6,
   "id": "a80aec8a",
   "metadata": {},
   "outputs": [
    {
     "data": {
      "text/plain": [
       "['APPLE iPhone 13 Pro Max (Silver, 512 GB)',\n",
       " 'APPLE iPhone 13 Pro Max (Silver, 256 GB)',\n",
       " 'APPLE iPhone 13 Pro Max (Sierra Blue, 512 GB)',\n",
       " 'APPLE iPhone 13 Pro Max (Graphite, 256 GB)',\n",
       " 'APPLE iPhone 13 Pro Max (Gold, 512 GB)',\n",
       " 'APPLE iPhone 13 Pro Max (Sierra Blue, 128 GB)',\n",
       " 'APPLE iPhone 13 Pro Max (Silver, 128 GB)',\n",
       " 'APPLE iPhone 13 Pro Max (Graphite, 512 GB)',\n",
       " 'APPLE iPhone 13 Pro Max (Sierra Blue, 256 GB)',\n",
       " 'APPLE iPhone 13 Pro Max (Graphite, 128 GB)',\n",
       " 'APPLE iPhone 13 Pro Max (Silver, 1 TB)',\n",
       " 'APPLE iPhone 13 Pro Max (Gold, 256 GB)',\n",
       " 'APPLE iPhone 13 Pro Max (Sierra Blue, 1 TB)',\n",
       " 'APPLE iPhone 13 Pro Max (Graphite, 1 TB)',\n",
       " 'APPLE iPhone 13 Pro Max (Gold, 128 GB)',\n",
       " 'APPLE iPhone 13 Pro Max (Gold, 1 TB)',\n",
       " 'APPLE iPhone 11 Pro Max (Space Grey, 64 GB)',\n",
       " 'APPLE iPhone 12 Pro Max (Gold, 512 GB)',\n",
       " 'APPLE iPhone 11 Pro Max (Silver, 64 GB)',\n",
       " 'APPLE iPhone 12 Pro Max (Pacific Blue, 128 GB)',\n",
       " 'APPLE iPhone 12 Pro Max (Pacific Blue, 256 GB)',\n",
       " 'APPLE iPhone 12 Pro Max (Gold, 128 GB)',\n",
       " 'APPLE iPhone 12 Pro Max (Gold, 256 GB)',\n",
       " 'APPLE iPhone 12 Pro Max (Pacific Blue, 512 GB)']"
      ]
     },
     "execution_count": 6,
     "metadata": {},
     "output_type": "execute_result"
    }
   ],
   "source": [
    "productname"
   ]
  },
  {
   "cell_type": "code",
   "execution_count": 7,
   "id": "29ed8ace",
   "metadata": {},
   "outputs": [
    {
     "name": "stdout",
     "output_type": "stream",
     "text": [
      "4.7\n"
     ]
    }
   ],
   "source": [
    "modelname=page_file.find(\"div\",{\"class\":'_3LWZlK'})\n",
    "print(modelname.text)"
   ]
  },
  {
   "cell_type": "code",
   "execution_count": 8,
   "id": "1fd3e3ec",
   "metadata": {},
   "outputs": [
    {
     "data": {
      "text/plain": [
       "['4.7',\n",
       " '4.7',\n",
       " '4.7',\n",
       " '4.7',\n",
       " '4.7',\n",
       " '4.7',\n",
       " '4.7',\n",
       " '4.7',\n",
       " '4.7',\n",
       " '4.7',\n",
       " '4.7',\n",
       " '4.7',\n",
       " '4.7',\n",
       " '4.7',\n",
       " '4.7',\n",
       " '4.7',\n",
       " '4.7',\n",
       " '4.6',\n",
       " '4.7',\n",
       " '4.6',\n",
       " '4.6',\n",
       " '4.6',\n",
       " '4.6',\n",
       " '4.6',\n",
       " '4.6',\n",
       " '5',\n",
       " '5',\n",
       " '4.7',\n",
       " '5',\n",
       " '5',\n",
       " '4.7',\n",
       " '4',\n",
       " '5']"
      ]
     },
     "execution_count": 8,
     "metadata": {},
     "output_type": "execute_result"
    }
   ],
   "source": [
    "ratings=[]\n",
    "modelname=page_file.findAll(\"div\",{\"class\":'_3LWZlK'})\n",
    "for i in modelname:\n",
    "    p=i.text\n",
    "    ratings.append(p)\n",
    "ratings\n"
   ]
  },
  {
   "cell_type": "code",
   "execution_count": 9,
   "id": "113ee121",
   "metadata": {},
   "outputs": [
    {
     "name": "stdout",
     "output_type": "stream",
     "text": [
      "₹1,59,900\n"
     ]
    }
   ],
   "source": [
    "modelname=page_file.find(\"div\",{\"class\":'_25b18c'})\n",
    "print(modelname.text)"
   ]
  },
  {
   "cell_type": "code",
   "execution_count": 10,
   "id": "b521ba5e",
   "metadata": {},
   "outputs": [
    {
     "data": {
      "text/plain": [
       "['₹1,59,900',\n",
       " '₹1,39,900',\n",
       " '₹1,59,900',\n",
       " '₹1,39,900',\n",
       " '₹1,59,900',\n",
       " '₹1,29,900',\n",
       " '₹1,29,900',\n",
       " '₹1,59,900',\n",
       " '₹1,39,900',\n",
       " '₹1,29,900',\n",
       " '₹1,79,900',\n",
       " '₹1,39,900',\n",
       " '₹1,79,900',\n",
       " '₹1,79,900',\n",
       " '₹1,29,900',\n",
       " '₹1,79,900',\n",
       " '₹1,17,100',\n",
       " '₹1,49,900',\n",
       " '₹1,17,100',\n",
       " '₹1,19,900',\n",
       " '₹1,29,900',\n",
       " '₹1,19,900',\n",
       " '₹1,29,900',\n",
       " '₹1,49,900',\n",
       " '₹1,19,900',\n",
       " '₹1,39,900',\n",
       " '₹1,17,100']"
      ]
     },
     "execution_count": 10,
     "metadata": {},
     "output_type": "execute_result"
    }
   ],
   "source": [
    "price=[]\n",
    "modelname=page_file.findAll(\"div\",{\"class\":'_30jeq3'})\n",
    "for i in modelname:\n",
    "    p=i.text\n",
    "    price.append(p)\n",
    "price\n"
   ]
  },
  {
   "cell_type": "code",
   "execution_count": 11,
   "id": "aca379b7",
   "metadata": {},
   "outputs": [
    {
     "data": {
      "text/plain": [
       "24"
      ]
     },
     "execution_count": 11,
     "metadata": {},
     "output_type": "execute_result"
    }
   ],
   "source": [
    "len(productname)"
   ]
  },
  {
   "cell_type": "code",
   "execution_count": 12,
   "id": "67ba0cf6",
   "metadata": {},
   "outputs": [],
   "source": [
    "del productname[20:24]"
   ]
  },
  {
   "cell_type": "code",
   "execution_count": 13,
   "id": "3d5ac314",
   "metadata": {},
   "outputs": [
    {
     "data": {
      "text/plain": [
       "20"
      ]
     },
     "execution_count": 13,
     "metadata": {},
     "output_type": "execute_result"
    }
   ],
   "source": [
    "len(productname)"
   ]
  },
  {
   "cell_type": "code",
   "execution_count": 14,
   "id": "1f8b84d3",
   "metadata": {},
   "outputs": [
    {
     "data": {
      "text/plain": [
       "33"
      ]
     },
     "execution_count": 14,
     "metadata": {},
     "output_type": "execute_result"
    }
   ],
   "source": [
    "len(ratings)"
   ]
  },
  {
   "cell_type": "code",
   "execution_count": 15,
   "id": "096ec630",
   "metadata": {},
   "outputs": [],
   "source": [
    "del ratings[20:33]"
   ]
  },
  {
   "cell_type": "code",
   "execution_count": 16,
   "id": "d873ba3a",
   "metadata": {},
   "outputs": [
    {
     "data": {
      "text/plain": [
       "20"
      ]
     },
     "execution_count": 16,
     "metadata": {},
     "output_type": "execute_result"
    }
   ],
   "source": [
    "len(ratings)"
   ]
  },
  {
   "cell_type": "code",
   "execution_count": 17,
   "id": "c2699b6a",
   "metadata": {},
   "outputs": [
    {
     "data": {
      "text/plain": [
       "27"
      ]
     },
     "execution_count": 17,
     "metadata": {},
     "output_type": "execute_result"
    }
   ],
   "source": [
    "len(price)"
   ]
  },
  {
   "cell_type": "code",
   "execution_count": 18,
   "id": "1e2bb624",
   "metadata": {},
   "outputs": [],
   "source": [
    "del price[20:27]"
   ]
  },
  {
   "cell_type": "code",
   "execution_count": 19,
   "id": "fe001946",
   "metadata": {},
   "outputs": [
    {
     "data": {
      "text/plain": [
       "20"
      ]
     },
     "execution_count": 19,
     "metadata": {},
     "output_type": "execute_result"
    }
   ],
   "source": [
    "len(price)"
   ]
  },
  {
   "cell_type": "code",
   "execution_count": 20,
   "id": "d68b4ce4",
   "metadata": {},
   "outputs": [],
   "source": [
    "d={'BRANDNAME_1':productname,'RATING_1':ratings,'PRICE_1':price}\n",
    "mobiledata=pd.DataFrame(d)"
   ]
  },
  {
   "cell_type": "code",
   "execution_count": 21,
   "id": "f20231a1",
   "metadata": {},
   "outputs": [
    {
     "data": {
      "text/html": [
       "<div>\n",
       "<style scoped>\n",
       "    .dataframe tbody tr th:only-of-type {\n",
       "        vertical-align: middle;\n",
       "    }\n",
       "\n",
       "    .dataframe tbody tr th {\n",
       "        vertical-align: top;\n",
       "    }\n",
       "\n",
       "    .dataframe thead th {\n",
       "        text-align: right;\n",
       "    }\n",
       "</style>\n",
       "<table border=\"1\" class=\"dataframe\">\n",
       "  <thead>\n",
       "    <tr style=\"text-align: right;\">\n",
       "      <th></th>\n",
       "      <th>BRANDNAME_1</th>\n",
       "      <th>RATING_1</th>\n",
       "      <th>PRICE_1</th>\n",
       "    </tr>\n",
       "  </thead>\n",
       "  <tbody>\n",
       "    <tr>\n",
       "      <th>0</th>\n",
       "      <td>APPLE iPhone 13 Pro Max (Silver, 512 GB)</td>\n",
       "      <td>4.7</td>\n",
       "      <td>₹1,59,900</td>\n",
       "    </tr>\n",
       "    <tr>\n",
       "      <th>1</th>\n",
       "      <td>APPLE iPhone 13 Pro Max (Silver, 256 GB)</td>\n",
       "      <td>4.7</td>\n",
       "      <td>₹1,39,900</td>\n",
       "    </tr>\n",
       "    <tr>\n",
       "      <th>2</th>\n",
       "      <td>APPLE iPhone 13 Pro Max (Sierra Blue, 512 GB)</td>\n",
       "      <td>4.7</td>\n",
       "      <td>₹1,59,900</td>\n",
       "    </tr>\n",
       "    <tr>\n",
       "      <th>3</th>\n",
       "      <td>APPLE iPhone 13 Pro Max (Graphite, 256 GB)</td>\n",
       "      <td>4.7</td>\n",
       "      <td>₹1,39,900</td>\n",
       "    </tr>\n",
       "    <tr>\n",
       "      <th>4</th>\n",
       "      <td>APPLE iPhone 13 Pro Max (Gold, 512 GB)</td>\n",
       "      <td>4.7</td>\n",
       "      <td>₹1,59,900</td>\n",
       "    </tr>\n",
       "    <tr>\n",
       "      <th>5</th>\n",
       "      <td>APPLE iPhone 13 Pro Max (Sierra Blue, 128 GB)</td>\n",
       "      <td>4.7</td>\n",
       "      <td>₹1,29,900</td>\n",
       "    </tr>\n",
       "    <tr>\n",
       "      <th>6</th>\n",
       "      <td>APPLE iPhone 13 Pro Max (Silver, 128 GB)</td>\n",
       "      <td>4.7</td>\n",
       "      <td>₹1,29,900</td>\n",
       "    </tr>\n",
       "    <tr>\n",
       "      <th>7</th>\n",
       "      <td>APPLE iPhone 13 Pro Max (Graphite, 512 GB)</td>\n",
       "      <td>4.7</td>\n",
       "      <td>₹1,59,900</td>\n",
       "    </tr>\n",
       "    <tr>\n",
       "      <th>8</th>\n",
       "      <td>APPLE iPhone 13 Pro Max (Sierra Blue, 256 GB)</td>\n",
       "      <td>4.7</td>\n",
       "      <td>₹1,39,900</td>\n",
       "    </tr>\n",
       "    <tr>\n",
       "      <th>9</th>\n",
       "      <td>APPLE iPhone 13 Pro Max (Graphite, 128 GB)</td>\n",
       "      <td>4.7</td>\n",
       "      <td>₹1,29,900</td>\n",
       "    </tr>\n",
       "    <tr>\n",
       "      <th>10</th>\n",
       "      <td>APPLE iPhone 13 Pro Max (Silver, 1 TB)</td>\n",
       "      <td>4.7</td>\n",
       "      <td>₹1,79,900</td>\n",
       "    </tr>\n",
       "    <tr>\n",
       "      <th>11</th>\n",
       "      <td>APPLE iPhone 13 Pro Max (Gold, 256 GB)</td>\n",
       "      <td>4.7</td>\n",
       "      <td>₹1,39,900</td>\n",
       "    </tr>\n",
       "    <tr>\n",
       "      <th>12</th>\n",
       "      <td>APPLE iPhone 13 Pro Max (Sierra Blue, 1 TB)</td>\n",
       "      <td>4.7</td>\n",
       "      <td>₹1,79,900</td>\n",
       "    </tr>\n",
       "    <tr>\n",
       "      <th>13</th>\n",
       "      <td>APPLE iPhone 13 Pro Max (Graphite, 1 TB)</td>\n",
       "      <td>4.7</td>\n",
       "      <td>₹1,79,900</td>\n",
       "    </tr>\n",
       "    <tr>\n",
       "      <th>14</th>\n",
       "      <td>APPLE iPhone 13 Pro Max (Gold, 128 GB)</td>\n",
       "      <td>4.7</td>\n",
       "      <td>₹1,29,900</td>\n",
       "    </tr>\n",
       "    <tr>\n",
       "      <th>15</th>\n",
       "      <td>APPLE iPhone 13 Pro Max (Gold, 1 TB)</td>\n",
       "      <td>4.7</td>\n",
       "      <td>₹1,79,900</td>\n",
       "    </tr>\n",
       "    <tr>\n",
       "      <th>16</th>\n",
       "      <td>APPLE iPhone 11 Pro Max (Space Grey, 64 GB)</td>\n",
       "      <td>4.7</td>\n",
       "      <td>₹1,17,100</td>\n",
       "    </tr>\n",
       "    <tr>\n",
       "      <th>17</th>\n",
       "      <td>APPLE iPhone 12 Pro Max (Gold, 512 GB)</td>\n",
       "      <td>4.6</td>\n",
       "      <td>₹1,49,900</td>\n",
       "    </tr>\n",
       "    <tr>\n",
       "      <th>18</th>\n",
       "      <td>APPLE iPhone 11 Pro Max (Silver, 64 GB)</td>\n",
       "      <td>4.7</td>\n",
       "      <td>₹1,17,100</td>\n",
       "    </tr>\n",
       "    <tr>\n",
       "      <th>19</th>\n",
       "      <td>APPLE iPhone 12 Pro Max (Pacific Blue, 128 GB)</td>\n",
       "      <td>4.6</td>\n",
       "      <td>₹1,19,900</td>\n",
       "    </tr>\n",
       "  </tbody>\n",
       "</table>\n",
       "</div>"
      ],
      "text/plain": [
       "                                       BRANDNAME_1 RATING_1    PRICE_1\n",
       "0         APPLE iPhone 13 Pro Max (Silver, 512 GB)      4.7  ₹1,59,900\n",
       "1         APPLE iPhone 13 Pro Max (Silver, 256 GB)      4.7  ₹1,39,900\n",
       "2    APPLE iPhone 13 Pro Max (Sierra Blue, 512 GB)      4.7  ₹1,59,900\n",
       "3       APPLE iPhone 13 Pro Max (Graphite, 256 GB)      4.7  ₹1,39,900\n",
       "4           APPLE iPhone 13 Pro Max (Gold, 512 GB)      4.7  ₹1,59,900\n",
       "5    APPLE iPhone 13 Pro Max (Sierra Blue, 128 GB)      4.7  ₹1,29,900\n",
       "6         APPLE iPhone 13 Pro Max (Silver, 128 GB)      4.7  ₹1,29,900\n",
       "7       APPLE iPhone 13 Pro Max (Graphite, 512 GB)      4.7  ₹1,59,900\n",
       "8    APPLE iPhone 13 Pro Max (Sierra Blue, 256 GB)      4.7  ₹1,39,900\n",
       "9       APPLE iPhone 13 Pro Max (Graphite, 128 GB)      4.7  ₹1,29,900\n",
       "10          APPLE iPhone 13 Pro Max (Silver, 1 TB)      4.7  ₹1,79,900\n",
       "11          APPLE iPhone 13 Pro Max (Gold, 256 GB)      4.7  ₹1,39,900\n",
       "12     APPLE iPhone 13 Pro Max (Sierra Blue, 1 TB)      4.7  ₹1,79,900\n",
       "13        APPLE iPhone 13 Pro Max (Graphite, 1 TB)      4.7  ₹1,79,900\n",
       "14          APPLE iPhone 13 Pro Max (Gold, 128 GB)      4.7  ₹1,29,900\n",
       "15            APPLE iPhone 13 Pro Max (Gold, 1 TB)      4.7  ₹1,79,900\n",
       "16     APPLE iPhone 11 Pro Max (Space Grey, 64 GB)      4.7  ₹1,17,100\n",
       "17          APPLE iPhone 12 Pro Max (Gold, 512 GB)      4.6  ₹1,49,900\n",
       "18         APPLE iPhone 11 Pro Max (Silver, 64 GB)      4.7  ₹1,17,100\n",
       "19  APPLE iPhone 12 Pro Max (Pacific Blue, 128 GB)      4.6  ₹1,19,900"
      ]
     },
     "execution_count": 21,
     "metadata": {},
     "output_type": "execute_result"
    }
   ],
   "source": [
    "mobiledata"
   ]
  },
  {
   "cell_type": "code",
   "execution_count": 22,
   "id": "642050c6",
   "metadata": {},
   "outputs": [
    {
     "data": {
      "text/plain": [
       "BRANDNAME_1    object\n",
       "RATING_1       object\n",
       "PRICE_1        object\n",
       "dtype: object"
      ]
     },
     "execution_count": 22,
     "metadata": {},
     "output_type": "execute_result"
    }
   ],
   "source": [
    "mobiledata.dtypes"
   ]
  },
  {
   "cell_type": "code",
   "execution_count": 23,
   "id": "014ca3f6",
   "metadata": {},
   "outputs": [],
   "source": [
    "mobiledata.to_csv(\"source.csv\")"
   ]
  },
  {
   "cell_type": "code",
   "execution_count": 24,
   "id": "0af6de05",
   "metadata": {},
   "outputs": [
    {
     "data": {
      "text/html": [
       "<div>\n",
       "<style scoped>\n",
       "    .dataframe tbody tr th:only-of-type {\n",
       "        vertical-align: middle;\n",
       "    }\n",
       "\n",
       "    .dataframe tbody tr th {\n",
       "        vertical-align: top;\n",
       "    }\n",
       "\n",
       "    .dataframe thead th {\n",
       "        text-align: right;\n",
       "    }\n",
       "</style>\n",
       "<table border=\"1\" class=\"dataframe\">\n",
       "  <thead>\n",
       "    <tr style=\"text-align: right;\">\n",
       "      <th></th>\n",
       "      <th>Unnamed: 0</th>\n",
       "      <th>BRANDNAME_1</th>\n",
       "      <th>RATING_1</th>\n",
       "      <th>PRICE_1</th>\n",
       "    </tr>\n",
       "  </thead>\n",
       "  <tbody>\n",
       "    <tr>\n",
       "      <th>0</th>\n",
       "      <td>0</td>\n",
       "      <td>APPLE iPhone 13 Pro Max (Silver, 512 GB)</td>\n",
       "      <td>4.7</td>\n",
       "      <td>₹1,59,900</td>\n",
       "    </tr>\n",
       "    <tr>\n",
       "      <th>1</th>\n",
       "      <td>1</td>\n",
       "      <td>APPLE iPhone 13 Pro Max (Silver, 256 GB)</td>\n",
       "      <td>4.7</td>\n",
       "      <td>₹1,39,900</td>\n",
       "    </tr>\n",
       "    <tr>\n",
       "      <th>2</th>\n",
       "      <td>2</td>\n",
       "      <td>APPLE iPhone 13 Pro Max (Sierra Blue, 512 GB)</td>\n",
       "      <td>4.7</td>\n",
       "      <td>₹1,59,900</td>\n",
       "    </tr>\n",
       "    <tr>\n",
       "      <th>3</th>\n",
       "      <td>3</td>\n",
       "      <td>APPLE iPhone 13 Pro Max (Graphite, 256 GB)</td>\n",
       "      <td>4.7</td>\n",
       "      <td>₹1,39,900</td>\n",
       "    </tr>\n",
       "    <tr>\n",
       "      <th>4</th>\n",
       "      <td>4</td>\n",
       "      <td>APPLE iPhone 13 Pro Max (Gold, 512 GB)</td>\n",
       "      <td>4.7</td>\n",
       "      <td>₹1,59,900</td>\n",
       "    </tr>\n",
       "    <tr>\n",
       "      <th>5</th>\n",
       "      <td>5</td>\n",
       "      <td>APPLE iPhone 13 Pro Max (Sierra Blue, 128 GB)</td>\n",
       "      <td>4.7</td>\n",
       "      <td>₹1,29,900</td>\n",
       "    </tr>\n",
       "    <tr>\n",
       "      <th>6</th>\n",
       "      <td>6</td>\n",
       "      <td>APPLE iPhone 13 Pro Max (Silver, 128 GB)</td>\n",
       "      <td>4.7</td>\n",
       "      <td>₹1,29,900</td>\n",
       "    </tr>\n",
       "    <tr>\n",
       "      <th>7</th>\n",
       "      <td>7</td>\n",
       "      <td>APPLE iPhone 13 Pro Max (Graphite, 512 GB)</td>\n",
       "      <td>4.7</td>\n",
       "      <td>₹1,59,900</td>\n",
       "    </tr>\n",
       "    <tr>\n",
       "      <th>8</th>\n",
       "      <td>8</td>\n",
       "      <td>APPLE iPhone 13 Pro Max (Sierra Blue, 256 GB)</td>\n",
       "      <td>4.7</td>\n",
       "      <td>₹1,39,900</td>\n",
       "    </tr>\n",
       "    <tr>\n",
       "      <th>9</th>\n",
       "      <td>9</td>\n",
       "      <td>APPLE iPhone 13 Pro Max (Graphite, 128 GB)</td>\n",
       "      <td>4.7</td>\n",
       "      <td>₹1,29,900</td>\n",
       "    </tr>\n",
       "    <tr>\n",
       "      <th>10</th>\n",
       "      <td>10</td>\n",
       "      <td>APPLE iPhone 13 Pro Max (Silver, 1 TB)</td>\n",
       "      <td>4.7</td>\n",
       "      <td>₹1,79,900</td>\n",
       "    </tr>\n",
       "    <tr>\n",
       "      <th>11</th>\n",
       "      <td>11</td>\n",
       "      <td>APPLE iPhone 13 Pro Max (Gold, 256 GB)</td>\n",
       "      <td>4.7</td>\n",
       "      <td>₹1,39,900</td>\n",
       "    </tr>\n",
       "    <tr>\n",
       "      <th>12</th>\n",
       "      <td>12</td>\n",
       "      <td>APPLE iPhone 13 Pro Max (Sierra Blue, 1 TB)</td>\n",
       "      <td>4.7</td>\n",
       "      <td>₹1,79,900</td>\n",
       "    </tr>\n",
       "    <tr>\n",
       "      <th>13</th>\n",
       "      <td>13</td>\n",
       "      <td>APPLE iPhone 13 Pro Max (Graphite, 1 TB)</td>\n",
       "      <td>4.7</td>\n",
       "      <td>₹1,79,900</td>\n",
       "    </tr>\n",
       "    <tr>\n",
       "      <th>14</th>\n",
       "      <td>14</td>\n",
       "      <td>APPLE iPhone 13 Pro Max (Gold, 128 GB)</td>\n",
       "      <td>4.7</td>\n",
       "      <td>₹1,29,900</td>\n",
       "    </tr>\n",
       "    <tr>\n",
       "      <th>15</th>\n",
       "      <td>15</td>\n",
       "      <td>APPLE iPhone 13 Pro Max (Gold, 1 TB)</td>\n",
       "      <td>4.7</td>\n",
       "      <td>₹1,79,900</td>\n",
       "    </tr>\n",
       "    <tr>\n",
       "      <th>16</th>\n",
       "      <td>16</td>\n",
       "      <td>APPLE iPhone 11 Pro Max (Space Grey, 64 GB)</td>\n",
       "      <td>4.7</td>\n",
       "      <td>₹1,17,100</td>\n",
       "    </tr>\n",
       "    <tr>\n",
       "      <th>17</th>\n",
       "      <td>17</td>\n",
       "      <td>APPLE iPhone 12 Pro Max (Gold, 512 GB)</td>\n",
       "      <td>4.6</td>\n",
       "      <td>₹1,49,900</td>\n",
       "    </tr>\n",
       "    <tr>\n",
       "      <th>18</th>\n",
       "      <td>18</td>\n",
       "      <td>APPLE iPhone 11 Pro Max (Silver, 64 GB)</td>\n",
       "      <td>4.7</td>\n",
       "      <td>₹1,17,100</td>\n",
       "    </tr>\n",
       "    <tr>\n",
       "      <th>19</th>\n",
       "      <td>19</td>\n",
       "      <td>APPLE iPhone 12 Pro Max (Pacific Blue, 128 GB)</td>\n",
       "      <td>4.6</td>\n",
       "      <td>₹1,19,900</td>\n",
       "    </tr>\n",
       "  </tbody>\n",
       "</table>\n",
       "</div>"
      ],
      "text/plain": [
       "    Unnamed: 0                                     BRANDNAME_1  RATING_1  \\\n",
       "0            0        APPLE iPhone 13 Pro Max (Silver, 512 GB)       4.7   \n",
       "1            1        APPLE iPhone 13 Pro Max (Silver, 256 GB)       4.7   \n",
       "2            2   APPLE iPhone 13 Pro Max (Sierra Blue, 512 GB)       4.7   \n",
       "3            3      APPLE iPhone 13 Pro Max (Graphite, 256 GB)       4.7   \n",
       "4            4          APPLE iPhone 13 Pro Max (Gold, 512 GB)       4.7   \n",
       "5            5   APPLE iPhone 13 Pro Max (Sierra Blue, 128 GB)       4.7   \n",
       "6            6        APPLE iPhone 13 Pro Max (Silver, 128 GB)       4.7   \n",
       "7            7      APPLE iPhone 13 Pro Max (Graphite, 512 GB)       4.7   \n",
       "8            8   APPLE iPhone 13 Pro Max (Sierra Blue, 256 GB)       4.7   \n",
       "9            9      APPLE iPhone 13 Pro Max (Graphite, 128 GB)       4.7   \n",
       "10          10          APPLE iPhone 13 Pro Max (Silver, 1 TB)       4.7   \n",
       "11          11          APPLE iPhone 13 Pro Max (Gold, 256 GB)       4.7   \n",
       "12          12     APPLE iPhone 13 Pro Max (Sierra Blue, 1 TB)       4.7   \n",
       "13          13        APPLE iPhone 13 Pro Max (Graphite, 1 TB)       4.7   \n",
       "14          14          APPLE iPhone 13 Pro Max (Gold, 128 GB)       4.7   \n",
       "15          15            APPLE iPhone 13 Pro Max (Gold, 1 TB)       4.7   \n",
       "16          16     APPLE iPhone 11 Pro Max (Space Grey, 64 GB)       4.7   \n",
       "17          17          APPLE iPhone 12 Pro Max (Gold, 512 GB)       4.6   \n",
       "18          18         APPLE iPhone 11 Pro Max (Silver, 64 GB)       4.7   \n",
       "19          19  APPLE iPhone 12 Pro Max (Pacific Blue, 128 GB)       4.6   \n",
       "\n",
       "      PRICE_1  \n",
       "0   ₹1,59,900  \n",
       "1   ₹1,39,900  \n",
       "2   ₹1,59,900  \n",
       "3   ₹1,39,900  \n",
       "4   ₹1,59,900  \n",
       "5   ₹1,29,900  \n",
       "6   ₹1,29,900  \n",
       "7   ₹1,59,900  \n",
       "8   ₹1,39,900  \n",
       "9   ₹1,29,900  \n",
       "10  ₹1,79,900  \n",
       "11  ₹1,39,900  \n",
       "12  ₹1,79,900  \n",
       "13  ₹1,79,900  \n",
       "14  ₹1,29,900  \n",
       "15  ₹1,79,900  \n",
       "16  ₹1,17,100  \n",
       "17  ₹1,49,900  \n",
       "18  ₹1,17,100  \n",
       "19  ₹1,19,900  "
      ]
     },
     "execution_count": 24,
     "metadata": {},
     "output_type": "execute_result"
    }
   ],
   "source": [
    "data=pd.read_csv(\"source.csv\")\n",
    "data"
   ]
  },
  {
   "cell_type": "code",
   "execution_count": 25,
   "id": "5ad71609",
   "metadata": {},
   "outputs": [],
   "source": [
    "mobiledata['RATING_1']=mobiledata['RATING_1'].astype(float) "
   ]
  },
  {
   "cell_type": "code",
   "execution_count": 26,
   "id": "d816db03",
   "metadata": {
    "scrolled": true
   },
   "outputs": [
    {
     "data": {
      "text/plain": [
       "BRANDNAME_1     object\n",
       "RATING_1       float64\n",
       "PRICE_1         object\n",
       "dtype: object"
      ]
     },
     "execution_count": 26,
     "metadata": {},
     "output_type": "execute_result"
    }
   ],
   "source": [
    "mobiledata.dtypes"
   ]
  },
  {
   "cell_type": "code",
   "execution_count": 27,
   "id": "56f4d670",
   "metadata": {},
   "outputs": [
    {
     "name": "stdout",
     "output_type": "stream",
     "text": [
      "['159900', '139900', '159900', '139900', '159900', '129900', '129900', '159900', '139900', '129900', '179900', '139900', '179900', '179900', '129900', '179900', '117100', '149900', '117100', '119900']\n"
     ]
    }
   ],
   "source": [
    "d=mobiledata['PRICE_1']\n",
    "temp=[]\n",
    "import re\n",
    "t=re.compile(r'[^\\d]+')\n",
    "for i in d:\n",
    "    r=t.sub('',i)\n",
    "    temp.append(r)\n",
    "print(temp)"
   ]
  },
  {
   "cell_type": "code",
   "execution_count": 28,
   "id": "79c153b1",
   "metadata": {},
   "outputs": [
    {
     "data": {
      "text/html": [
       "<div>\n",
       "<style scoped>\n",
       "    .dataframe tbody tr th:only-of-type {\n",
       "        vertical-align: middle;\n",
       "    }\n",
       "\n",
       "    .dataframe tbody tr th {\n",
       "        vertical-align: top;\n",
       "    }\n",
       "\n",
       "    .dataframe thead th {\n",
       "        text-align: right;\n",
       "    }\n",
       "</style>\n",
       "<table border=\"1\" class=\"dataframe\">\n",
       "  <thead>\n",
       "    <tr style=\"text-align: right;\">\n",
       "      <th></th>\n",
       "      <th>BRANDNAME_1</th>\n",
       "      <th>RATING_1</th>\n",
       "      <th>PRICE_1</th>\n",
       "    </tr>\n",
       "  </thead>\n",
       "  <tbody>\n",
       "    <tr>\n",
       "      <th>0</th>\n",
       "      <td>APPLE iPhone 13 Pro Max (Silver, 512 GB)</td>\n",
       "      <td>4.7</td>\n",
       "      <td>159900</td>\n",
       "    </tr>\n",
       "    <tr>\n",
       "      <th>1</th>\n",
       "      <td>APPLE iPhone 13 Pro Max (Silver, 256 GB)</td>\n",
       "      <td>4.7</td>\n",
       "      <td>139900</td>\n",
       "    </tr>\n",
       "    <tr>\n",
       "      <th>2</th>\n",
       "      <td>APPLE iPhone 13 Pro Max (Sierra Blue, 512 GB)</td>\n",
       "      <td>4.7</td>\n",
       "      <td>159900</td>\n",
       "    </tr>\n",
       "    <tr>\n",
       "      <th>3</th>\n",
       "      <td>APPLE iPhone 13 Pro Max (Graphite, 256 GB)</td>\n",
       "      <td>4.7</td>\n",
       "      <td>139900</td>\n",
       "    </tr>\n",
       "    <tr>\n",
       "      <th>4</th>\n",
       "      <td>APPLE iPhone 13 Pro Max (Gold, 512 GB)</td>\n",
       "      <td>4.7</td>\n",
       "      <td>159900</td>\n",
       "    </tr>\n",
       "    <tr>\n",
       "      <th>5</th>\n",
       "      <td>APPLE iPhone 13 Pro Max (Sierra Blue, 128 GB)</td>\n",
       "      <td>4.7</td>\n",
       "      <td>129900</td>\n",
       "    </tr>\n",
       "    <tr>\n",
       "      <th>6</th>\n",
       "      <td>APPLE iPhone 13 Pro Max (Silver, 128 GB)</td>\n",
       "      <td>4.7</td>\n",
       "      <td>129900</td>\n",
       "    </tr>\n",
       "    <tr>\n",
       "      <th>7</th>\n",
       "      <td>APPLE iPhone 13 Pro Max (Graphite, 512 GB)</td>\n",
       "      <td>4.7</td>\n",
       "      <td>159900</td>\n",
       "    </tr>\n",
       "    <tr>\n",
       "      <th>8</th>\n",
       "      <td>APPLE iPhone 13 Pro Max (Sierra Blue, 256 GB)</td>\n",
       "      <td>4.7</td>\n",
       "      <td>139900</td>\n",
       "    </tr>\n",
       "    <tr>\n",
       "      <th>9</th>\n",
       "      <td>APPLE iPhone 13 Pro Max (Graphite, 128 GB)</td>\n",
       "      <td>4.7</td>\n",
       "      <td>129900</td>\n",
       "    </tr>\n",
       "    <tr>\n",
       "      <th>10</th>\n",
       "      <td>APPLE iPhone 13 Pro Max (Silver, 1 TB)</td>\n",
       "      <td>4.7</td>\n",
       "      <td>179900</td>\n",
       "    </tr>\n",
       "    <tr>\n",
       "      <th>11</th>\n",
       "      <td>APPLE iPhone 13 Pro Max (Gold, 256 GB)</td>\n",
       "      <td>4.7</td>\n",
       "      <td>139900</td>\n",
       "    </tr>\n",
       "    <tr>\n",
       "      <th>12</th>\n",
       "      <td>APPLE iPhone 13 Pro Max (Sierra Blue, 1 TB)</td>\n",
       "      <td>4.7</td>\n",
       "      <td>179900</td>\n",
       "    </tr>\n",
       "    <tr>\n",
       "      <th>13</th>\n",
       "      <td>APPLE iPhone 13 Pro Max (Graphite, 1 TB)</td>\n",
       "      <td>4.7</td>\n",
       "      <td>179900</td>\n",
       "    </tr>\n",
       "    <tr>\n",
       "      <th>14</th>\n",
       "      <td>APPLE iPhone 13 Pro Max (Gold, 128 GB)</td>\n",
       "      <td>4.7</td>\n",
       "      <td>129900</td>\n",
       "    </tr>\n",
       "    <tr>\n",
       "      <th>15</th>\n",
       "      <td>APPLE iPhone 13 Pro Max (Gold, 1 TB)</td>\n",
       "      <td>4.7</td>\n",
       "      <td>179900</td>\n",
       "    </tr>\n",
       "    <tr>\n",
       "      <th>16</th>\n",
       "      <td>APPLE iPhone 11 Pro Max (Space Grey, 64 GB)</td>\n",
       "      <td>4.7</td>\n",
       "      <td>117100</td>\n",
       "    </tr>\n",
       "    <tr>\n",
       "      <th>17</th>\n",
       "      <td>APPLE iPhone 12 Pro Max (Gold, 512 GB)</td>\n",
       "      <td>4.6</td>\n",
       "      <td>149900</td>\n",
       "    </tr>\n",
       "    <tr>\n",
       "      <th>18</th>\n",
       "      <td>APPLE iPhone 11 Pro Max (Silver, 64 GB)</td>\n",
       "      <td>4.7</td>\n",
       "      <td>117100</td>\n",
       "    </tr>\n",
       "    <tr>\n",
       "      <th>19</th>\n",
       "      <td>APPLE iPhone 12 Pro Max (Pacific Blue, 128 GB)</td>\n",
       "      <td>4.6</td>\n",
       "      <td>119900</td>\n",
       "    </tr>\n",
       "  </tbody>\n",
       "</table>\n",
       "</div>"
      ],
      "text/plain": [
       "                                       BRANDNAME_1  RATING_1 PRICE_1\n",
       "0         APPLE iPhone 13 Pro Max (Silver, 512 GB)       4.7  159900\n",
       "1         APPLE iPhone 13 Pro Max (Silver, 256 GB)       4.7  139900\n",
       "2    APPLE iPhone 13 Pro Max (Sierra Blue, 512 GB)       4.7  159900\n",
       "3       APPLE iPhone 13 Pro Max (Graphite, 256 GB)       4.7  139900\n",
       "4           APPLE iPhone 13 Pro Max (Gold, 512 GB)       4.7  159900\n",
       "5    APPLE iPhone 13 Pro Max (Sierra Blue, 128 GB)       4.7  129900\n",
       "6         APPLE iPhone 13 Pro Max (Silver, 128 GB)       4.7  129900\n",
       "7       APPLE iPhone 13 Pro Max (Graphite, 512 GB)       4.7  159900\n",
       "8    APPLE iPhone 13 Pro Max (Sierra Blue, 256 GB)       4.7  139900\n",
       "9       APPLE iPhone 13 Pro Max (Graphite, 128 GB)       4.7  129900\n",
       "10          APPLE iPhone 13 Pro Max (Silver, 1 TB)       4.7  179900\n",
       "11          APPLE iPhone 13 Pro Max (Gold, 256 GB)       4.7  139900\n",
       "12     APPLE iPhone 13 Pro Max (Sierra Blue, 1 TB)       4.7  179900\n",
       "13        APPLE iPhone 13 Pro Max (Graphite, 1 TB)       4.7  179900\n",
       "14          APPLE iPhone 13 Pro Max (Gold, 128 GB)       4.7  129900\n",
       "15            APPLE iPhone 13 Pro Max (Gold, 1 TB)       4.7  179900\n",
       "16     APPLE iPhone 11 Pro Max (Space Grey, 64 GB)       4.7  117100\n",
       "17          APPLE iPhone 12 Pro Max (Gold, 512 GB)       4.6  149900\n",
       "18         APPLE iPhone 11 Pro Max (Silver, 64 GB)       4.7  117100\n",
       "19  APPLE iPhone 12 Pro Max (Pacific Blue, 128 GB)       4.6  119900"
      ]
     },
     "execution_count": 28,
     "metadata": {},
     "output_type": "execute_result"
    }
   ],
   "source": [
    "mobiledata['PRICE_1']=temp\n",
    "mobiledata"
   ]
  },
  {
   "cell_type": "code",
   "execution_count": 29,
   "id": "f0898137",
   "metadata": {},
   "outputs": [
    {
     "data": {
      "text/html": [
       "<div>\n",
       "<style scoped>\n",
       "    .dataframe tbody tr th:only-of-type {\n",
       "        vertical-align: middle;\n",
       "    }\n",
       "\n",
       "    .dataframe tbody tr th {\n",
       "        vertical-align: top;\n",
       "    }\n",
       "\n",
       "    .dataframe thead th {\n",
       "        text-align: right;\n",
       "    }\n",
       "</style>\n",
       "<table border=\"1\" class=\"dataframe\">\n",
       "  <thead>\n",
       "    <tr style=\"text-align: right;\">\n",
       "      <th></th>\n",
       "      <th>BRANDNAME_1</th>\n",
       "      <th>RATING_1</th>\n",
       "      <th>PRICE_1</th>\n",
       "    </tr>\n",
       "  </thead>\n",
       "  <tbody>\n",
       "    <tr>\n",
       "      <th>0</th>\n",
       "      <td>APPLE iPhone 13 Pro Max (Silver, 512 GB)</td>\n",
       "      <td>4.7</td>\n",
       "      <td>159900.0</td>\n",
       "    </tr>\n",
       "    <tr>\n",
       "      <th>1</th>\n",
       "      <td>APPLE iPhone 13 Pro Max (Silver, 256 GB)</td>\n",
       "      <td>4.7</td>\n",
       "      <td>139900.0</td>\n",
       "    </tr>\n",
       "    <tr>\n",
       "      <th>2</th>\n",
       "      <td>APPLE iPhone 13 Pro Max (Sierra Blue, 512 GB)</td>\n",
       "      <td>4.7</td>\n",
       "      <td>159900.0</td>\n",
       "    </tr>\n",
       "    <tr>\n",
       "      <th>3</th>\n",
       "      <td>APPLE iPhone 13 Pro Max (Graphite, 256 GB)</td>\n",
       "      <td>4.7</td>\n",
       "      <td>139900.0</td>\n",
       "    </tr>\n",
       "    <tr>\n",
       "      <th>4</th>\n",
       "      <td>APPLE iPhone 13 Pro Max (Gold, 512 GB)</td>\n",
       "      <td>4.7</td>\n",
       "      <td>159900.0</td>\n",
       "    </tr>\n",
       "    <tr>\n",
       "      <th>5</th>\n",
       "      <td>APPLE iPhone 13 Pro Max (Sierra Blue, 128 GB)</td>\n",
       "      <td>4.7</td>\n",
       "      <td>129900.0</td>\n",
       "    </tr>\n",
       "    <tr>\n",
       "      <th>6</th>\n",
       "      <td>APPLE iPhone 13 Pro Max (Silver, 128 GB)</td>\n",
       "      <td>4.7</td>\n",
       "      <td>129900.0</td>\n",
       "    </tr>\n",
       "    <tr>\n",
       "      <th>7</th>\n",
       "      <td>APPLE iPhone 13 Pro Max (Graphite, 512 GB)</td>\n",
       "      <td>4.7</td>\n",
       "      <td>159900.0</td>\n",
       "    </tr>\n",
       "    <tr>\n",
       "      <th>8</th>\n",
       "      <td>APPLE iPhone 13 Pro Max (Sierra Blue, 256 GB)</td>\n",
       "      <td>4.7</td>\n",
       "      <td>139900.0</td>\n",
       "    </tr>\n",
       "    <tr>\n",
       "      <th>9</th>\n",
       "      <td>APPLE iPhone 13 Pro Max (Graphite, 128 GB)</td>\n",
       "      <td>4.7</td>\n",
       "      <td>129900.0</td>\n",
       "    </tr>\n",
       "    <tr>\n",
       "      <th>10</th>\n",
       "      <td>APPLE iPhone 13 Pro Max (Silver, 1 TB)</td>\n",
       "      <td>4.7</td>\n",
       "      <td>179900.0</td>\n",
       "    </tr>\n",
       "    <tr>\n",
       "      <th>11</th>\n",
       "      <td>APPLE iPhone 13 Pro Max (Gold, 256 GB)</td>\n",
       "      <td>4.7</td>\n",
       "      <td>139900.0</td>\n",
       "    </tr>\n",
       "    <tr>\n",
       "      <th>12</th>\n",
       "      <td>APPLE iPhone 13 Pro Max (Sierra Blue, 1 TB)</td>\n",
       "      <td>4.7</td>\n",
       "      <td>179900.0</td>\n",
       "    </tr>\n",
       "    <tr>\n",
       "      <th>13</th>\n",
       "      <td>APPLE iPhone 13 Pro Max (Graphite, 1 TB)</td>\n",
       "      <td>4.7</td>\n",
       "      <td>179900.0</td>\n",
       "    </tr>\n",
       "    <tr>\n",
       "      <th>14</th>\n",
       "      <td>APPLE iPhone 13 Pro Max (Gold, 128 GB)</td>\n",
       "      <td>4.7</td>\n",
       "      <td>129900.0</td>\n",
       "    </tr>\n",
       "    <tr>\n",
       "      <th>15</th>\n",
       "      <td>APPLE iPhone 13 Pro Max (Gold, 1 TB)</td>\n",
       "      <td>4.7</td>\n",
       "      <td>179900.0</td>\n",
       "    </tr>\n",
       "    <tr>\n",
       "      <th>16</th>\n",
       "      <td>APPLE iPhone 11 Pro Max (Space Grey, 64 GB)</td>\n",
       "      <td>4.7</td>\n",
       "      <td>117100.0</td>\n",
       "    </tr>\n",
       "    <tr>\n",
       "      <th>17</th>\n",
       "      <td>APPLE iPhone 12 Pro Max (Gold, 512 GB)</td>\n",
       "      <td>4.6</td>\n",
       "      <td>149900.0</td>\n",
       "    </tr>\n",
       "    <tr>\n",
       "      <th>18</th>\n",
       "      <td>APPLE iPhone 11 Pro Max (Silver, 64 GB)</td>\n",
       "      <td>4.7</td>\n",
       "      <td>117100.0</td>\n",
       "    </tr>\n",
       "    <tr>\n",
       "      <th>19</th>\n",
       "      <td>APPLE iPhone 12 Pro Max (Pacific Blue, 128 GB)</td>\n",
       "      <td>4.6</td>\n",
       "      <td>119900.0</td>\n",
       "    </tr>\n",
       "  </tbody>\n",
       "</table>\n",
       "</div>"
      ],
      "text/plain": [
       "                                       BRANDNAME_1  RATING_1   PRICE_1\n",
       "0         APPLE iPhone 13 Pro Max (Silver, 512 GB)       4.7  159900.0\n",
       "1         APPLE iPhone 13 Pro Max (Silver, 256 GB)       4.7  139900.0\n",
       "2    APPLE iPhone 13 Pro Max (Sierra Blue, 512 GB)       4.7  159900.0\n",
       "3       APPLE iPhone 13 Pro Max (Graphite, 256 GB)       4.7  139900.0\n",
       "4           APPLE iPhone 13 Pro Max (Gold, 512 GB)       4.7  159900.0\n",
       "5    APPLE iPhone 13 Pro Max (Sierra Blue, 128 GB)       4.7  129900.0\n",
       "6         APPLE iPhone 13 Pro Max (Silver, 128 GB)       4.7  129900.0\n",
       "7       APPLE iPhone 13 Pro Max (Graphite, 512 GB)       4.7  159900.0\n",
       "8    APPLE iPhone 13 Pro Max (Sierra Blue, 256 GB)       4.7  139900.0\n",
       "9       APPLE iPhone 13 Pro Max (Graphite, 128 GB)       4.7  129900.0\n",
       "10          APPLE iPhone 13 Pro Max (Silver, 1 TB)       4.7  179900.0\n",
       "11          APPLE iPhone 13 Pro Max (Gold, 256 GB)       4.7  139900.0\n",
       "12     APPLE iPhone 13 Pro Max (Sierra Blue, 1 TB)       4.7  179900.0\n",
       "13        APPLE iPhone 13 Pro Max (Graphite, 1 TB)       4.7  179900.0\n",
       "14          APPLE iPhone 13 Pro Max (Gold, 128 GB)       4.7  129900.0\n",
       "15            APPLE iPhone 13 Pro Max (Gold, 1 TB)       4.7  179900.0\n",
       "16     APPLE iPhone 11 Pro Max (Space Grey, 64 GB)       4.7  117100.0\n",
       "17          APPLE iPhone 12 Pro Max (Gold, 512 GB)       4.6  149900.0\n",
       "18         APPLE iPhone 11 Pro Max (Silver, 64 GB)       4.7  117100.0\n",
       "19  APPLE iPhone 12 Pro Max (Pacific Blue, 128 GB)       4.6  119900.0"
      ]
     },
     "execution_count": 29,
     "metadata": {},
     "output_type": "execute_result"
    }
   ],
   "source": [
    "mobiledata['PRICE_1']=mobiledata['PRICE_1'].astype(float)\n",
    "mobiledata"
   ]
  },
  {
   "cell_type": "code",
   "execution_count": 30,
   "id": "facca8d4",
   "metadata": {},
   "outputs": [
    {
     "data": {
      "text/plain": [
       "BRANDNAME_1     object\n",
       "RATING_1       float64\n",
       "PRICE_1        float64\n",
       "dtype: object"
      ]
     },
     "execution_count": 30,
     "metadata": {},
     "output_type": "execute_result"
    }
   ],
   "source": [
    "mobiledata.dtypes"
   ]
  },
  {
   "cell_type": "code",
   "execution_count": 31,
   "id": "b071d283",
   "metadata": {},
   "outputs": [
    {
     "data": {
      "text/plain": [
       "<AxesSubplot:xlabel='BRANDNAME_1'>"
      ]
     },
     "execution_count": 31,
     "metadata": {},
     "output_type": "execute_result"
    },
    {
     "data": {
      "image/png": "[encoded data removed]",
      "text/plain": [
       "<Figure size 432x288 with 1 Axes>"
      ]
     },
     "metadata": {
      "needs_background": "light"
     },
     "output_type": "display_data"
    }
   ],
   "source": [
    "mobiledata.plot(kind='bar',x='BRANDNAME_1',y='PRICE_1')"
   ]
  },
  {
   "cell_type": "code",
   "execution_count": 32,
   "id": "d35a0869",
   "metadata": {},
   "outputs": [
    {
     "data": {
      "text/plain": [
       "<AxesSubplot:xlabel='BRANDNAME_1'>"
      ]
     },
     "execution_count": 32,
     "metadata": {},
     "output_type": "execute_result"
    },
    {
     "data": {
      "image/png": "[encoded data removed]",
      "text/plain": [
       "<Figure size 432x288 with 1 Axes>"
      ]
     },
     "metadata": {
      "needs_background": "light"
     },
     "output_type": "display_data"
    }
   ],
   "source": [
    "mobiledata.plot(kind='bar',x='BRANDNAME_1',y='RATING_1')"
   ]
  },
  {
   "cell_type": "code",
   "execution_count": 33,
   "id": "1e946174",
   "metadata": {},
   "outputs": [
    {
     "data": {
      "text/plain": [
       "<AxesSubplot:xlabel='BRANDNAME_1', ylabel='PRICE_1'>"
      ]
     },
     "execution_count": 33,
     "metadata": {},
     "output_type": "execute_result"
    },
    {
     "data": {
      "image/png": "[encoded data removed]",
      "text/plain": [
       "<Figure size 432x288 with 1 Axes>"
      ]
     },
     "metadata": {
      "needs_background": "light"
     },
     "output_type": "display_data"
    }
   ],
   "source": [
    "mobiledata.plot(kind='scatter',x='BRANDNAME_1',y='PRICE_1')"
   ]
  },
  {
   "cell_type": "code",
   "execution_count": 34,
   "id": "e1973787",
   "metadata": {},
   "outputs": [
    {
     "data": {
      "text/plain": [
       "<AxesSubplot:xlabel='BRANDNAME_1', ylabel='RATING_1'>"
      ]
     },
     "execution_count": 34,
     "metadata": {},
     "output_type": "execute_result"
    },
    {
     "data": {
      "image/png": "[encoded data removed]",
      "text/plain": [
       "<Figure size 432x288 with 1 Axes>"
      ]
     },
     "metadata": {
      "needs_background": "light"
     },
     "output_type": "display_data"
    }
   ],
   "source": [
    "mobiledata.plot(kind='scatter',x='BRANDNAME_1',y='RATING_1')"
   ]
  },
  {
   "cell_type": "code",
   "execution_count": 35,
   "id": "4175c939",
   "metadata": {},
   "outputs": [
    {
     "data": {
      "text/plain": [
       "array([<AxesSubplot:title={'center':'4.6'}>,\n",
       "       <AxesSubplot:title={'center':'4.7'}>], dtype=object)"
      ]
     },
     "execution_count": 35,
     "metadata": {},
     "output_type": "execute_result"
    },
    {
     "data": {
      "image/png": "[encoded data removed]",
      "text/plain": [
       "<Figure size 432x288 with 2 Axes>"
      ]
     },
     "metadata": {
      "needs_background": "light"
     },
     "output_type": "display_data"
    }
   ],
   "source": [
    "mobiledata.hist('PRICE_1','RATING_1')"
   ]
  },
  {
   "cell_type": "code",
   "execution_count": null,
   "id": "316c332a",
   "metadata": {},
   "outputs": [],
   "source": []
  }
 ],
 "metadata": {
  "kernelspec": {
   "display_name": "Python 3",
   "language": "python",
   "name": "python3"
  },
  "language_info": {
   "codemirror_mode": {
    "name": "ipython",
    "version": 3
   },
   "file_extension": ".py",
   "mimetype": "text/x-python",
   "name": "python",
   "nbconvert_exporter": "python",
   "pygments_lexer": "ipython3",
   "version": "3.8.8"
  }
 },
 "nbformat": 4,
 "nbformat_minor": 5
}
